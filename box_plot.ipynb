{
 "cells": [
  {
   "cell_type": "code",
   "execution_count": 3,
   "metadata": {},
   "outputs": [
    {
     "data": {
      "image/png": "[encoded data removed]",
      "text/plain": [
       "<Figure size 468x324 with 1 Axes>"
      ]
     },
     "metadata": {
      "needs_background": "light"
     },
     "output_type": "display_data"
    }
   ],
   "source": [
    "# Box plot representation of the different methods' accuracy\n",
    "\n",
    "import matplotlib\n",
    "import numpy as np\n",
    "import matplotlib.pyplot as plt\n",
    "\n",
    "\n",
    "cnn_array = np.array([0.33603239, 0.44534413, 0.34817814, 0.34008097, 0.33198381,\n",
    "       0.37246964, 0.31174089, 0.36032389, 0.3562753 , 0.35222672])\n",
    "       \n",
    "hog_sift_svm = np.array([0.34579439252336447,\n",
    " 0.4046511627906977,\n",
    " 0.41013824884792627,\n",
    " 0.39814814814814814,\n",
    " 0.3778801843317972,\n",
    " 0.37962962962962965,\n",
    " 0.39814814814814814,\n",
    " 0.40825688073394495,\n",
    " 0.42990654205607476,\n",
    " 0.3581395348837209])\n",
    "       \n",
    "hog_svm = np.array([0.6088709677419355,\n",
    " 0.6774193548387096,\n",
    " 0.6411290322580645,\n",
    " 0.5967741935483871,\n",
    " 0.6370967741935484,\n",
    " 0.625,\n",
    " 0.6370967741935484,\n",
    " 0.6370967741935484,\n",
    " 0.6008064516129032,\n",
    " 0.6129032258064516])\n",
    "       \n",
    "hog_cnn = np.array([0.340080971659919,\n",
    " 0.340080971659919,\n",
    " 0.340080971659919,\n",
    " 0.340080971659919,\n",
    " 0.340080971659919,\n",
    " 0.340080971659919,\n",
    " 0.340080971659919,\n",
    " 0.340080971659919,\n",
    " 0.340080971659919,0.345])\n",
    "      \n",
    "surf_svm = np.array([0.3043097734,\n",
    "       0.3204425768,\n",
    "       0.3178380286,\n",
    "       0.3670166946,\n",
    "       0.3386626807,\n",
    "       0.328019204 ,\n",
    "       0.3267683208,\n",
    "       0.3404907134,\n",
    "       0.3185157099,\n",
    "       0.3096389469])\n",
    "       \n",
    "\n",
    "cnn_array = cnn_array.reshape(-1,1)\n",
    "hog_sift_svm = hog_sift_svm.reshape(-1,1)\n",
    "hog_svm = hog_svm.reshape(-1,1)\n",
    "hog_cnn = hog_cnn.reshape(-1,1)\n",
    "surf_svm = surf_svm.reshape(-1,1)\n",
    "\n",
    "\n",
    "\n",
    "NO_OF_BINS = 5\n",
    "accuracy_matrix = np.hstack((cnn_array,hog_sift_svm, hog_svm, hog_cnn, surf_svm))\n",
    "\n",
    "     \n",
    "labelList = ['CNN', 'HOG+SIFT+SVM', 'HOG+SVM', 'HOG+CNN', 'SURF+SVM']\n",
    "    \n",
    "\n",
    "fig = plt.figure(1,figsize=(6.5, 4.5))\n",
    "ax = fig.add_subplot(111)\n",
    "plt.boxplot(accuracy_matrix,whis=5)\n",
    "ax.set_xticklabels(labelList)\n",
    "ax.set_ylabel('Engagement detection accuracy', fontsize=14)\n",
    "ax.set_xlabel('Methods', fontsize=14)\n",
    "ax.grid(True)\n",
    "plt.tight_layout()\n",
    "plt.savefig('./result.pdf', format='pdf')\n",
    "plt.show()"
   ]
  }
 ],
 "metadata": {
  "kernelspec": {
   "display_name": "Python 3",
   "language": "python",
   "name": "python3"
  },
  "language_info": {
   "codemirror_mode": {
    "name": "ipython",
    "version": 3
   },
   "file_extension": ".py",
   "mimetype": "text/x-python",
   "name": "python",
   "nbconvert_exporter": "python",
   "pygments_lexer": "ipython3",
   "version": "3.7.5"
  }
 },
 "nbformat": 4,
 "nbformat_minor": 2
}
