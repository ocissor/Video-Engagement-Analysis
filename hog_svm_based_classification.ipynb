{
 "cells": [
  {
   "cell_type": "code",
   "execution_count": 1,
   "metadata": {},
   "outputs": [],
   "source": [
    "#importing required libraries\n",
    "import cv2\n",
    "import numpy as np\n",
    "from skimage.transform import resize\n",
    "from skimage.feature import hog\n",
    "from skimage import exposure\n",
    "import matplotlib.pyplot as plt\n",
    "import PIL\n",
    "from PIL import Image\n",
    "import os\n",
    "import imutils\n",
    "import random\n",
    "from sklearn.preprocessing import LabelEncoder\n",
    "from sklearn.svm import SVC\n",
    "import shutil\n",
    "from sklearn.model_selection import train_test_split\n",
    "import pandas as pd\n",
    "import pycm\n",
    "from sklearn.metrics import classification_report, confusion_matrix\n",
    "%matplotlib inline"
   ]
  },
  {
   "cell_type": "code",
   "execution_count": 2,
   "metadata": {},
   "outputs": [],
   "source": [
    "# creating instance of labelencoder\n",
    "labelencoder = LabelEncoder()"
   ]
  },
  {
   "cell_type": "code",
   "execution_count": 3,
   "metadata": {},
   "outputs": [],
   "source": [
    "path1=r'C:\\Users\\occisor\\Downloads\\Engagement_recognition\\wacv2016-master\\2'\n",
    "path2=r'C:\\Users\\occisor\\Downloads\\Engagement_recognition\\wacv2016-master\\3'\n",
    "dest_path1=r'C:\\Users\\occisor\\Downloads\\Engagement_recognition\\wacv2016-master\\dataset\\2'\n",
    "dest_path2=r'C:\\Users\\occisor\\Downloads\\Engagement_recognition\\wacv2016-master\\dataset\\3'"
   ]
  },
  {
   "cell_type": "code",
   "execution_count": 4,
   "metadata": {},
   "outputs": [],
   "source": [
    "def copy_files(src_path,dest_path):\n",
    "    files=os.listdir(src_path)\n",
    "    while True:\n",
    "        i=random.randint(0,len(os.listdir(src_path))-1)\n",
    "        img_file=files[i]\n",
    "        img_path=os.path.join(src_path,img_file)\n",
    "        img=cv2.imread(img_path)\n",
    "        img=cv2.cvtColor(img,cv2.COLOR_BGR2RGB)\n",
    "        img=Image.fromarray(img)\n",
    "        frame_draw=img.copy()\n",
    "        frame=img.resize((128,64), Image.BILINEAR)\n",
    "        img_dest_path=os.path.join(dest_path,img_file)\n",
    "        img.save(img_dest_path)\n",
    "        if len(os.listdir(dest_path))>=412:\n",
    "            break"
   ]
  },
  {
   "cell_type": "code",
   "execution_count": null,
   "metadata": {
    "scrolled": true
   },
   "outputs": [],
   "source": [
    "path=r'C:\\Users\\occisor\\Downloads\\Engagement_recognition\\wacv2016-master\\dataset'\n",
    "accu=[]\n",
    "for k in range(10):\n",
    "    copy_files(path1,dest_path1)\n",
    "    copy_files(path2,dest_path2)\n",
    "    folders=os.listdir(path)\n",
    "    X=[]\n",
    "    Y=[]\n",
    "    for folder in folders:\n",
    "        folder_path=os.path.join(path,folder)\n",
    "        for img_file in os.listdir(folder_path):\n",
    "            img_file_path=os.path.join(folder_path,img_file)\n",
    "            img=cv2.imread(img_file_path)\n",
    "            img=cv2.cvtColor(img,cv2.COLOR_BGR2RGB)\n",
    "            fd=hog(img, orientations=9, pixels_per_cell=(8, 8), \n",
    "                    cells_per_block=(2, 2), multichannel=True)\n",
    "            X.append(fd)\n",
    "            Y.append(folder)\n",
    "            \n",
    "    Y=labelencoder.fit_transform(Y)\n",
    "    X= pd.DataFrame(X)\n",
    "    X=X.loc[:,0:1236]\n",
    "    Y= pd.DataFrame(Y)\n",
    "    X_train, X_test, y_train, y_test = train_test_split(X,Y, test_size = 0.20)\n",
    "    svm_clf = SVC(kernel='rbf', random_state = 1)\n",
    "    svm_clf.fit(X_train,y_train)\n",
    "    y_pred=svm_clf.predict(X_test)\n",
    "    y_pred=y_pred.reshape((y_test.shape[0],y_test.shape[1]))\n",
    "    y_test=np.asarray(y_test)\n",
    "    count=0\n",
    "    for i in range(len(y_test)):\n",
    "        if y_pred[i]==y_test[i]:\n",
    "            count+=1\n",
    "    ac=count/len(y_test)\n",
    "    accu.append(ac)\n",
    "    shutil.rmtree(dest_path1) \n",
    "    shutil.rmtree(dest_path2)\n",
    "    os.mkdir(dest_path1)\n",
    "    os.mkdir(dest_path2)\n",
    "    print(k)"
   ]
  },
  {
   "cell_type": "code",
   "execution_count": null,
   "metadata": {},
   "outputs": [],
   "source": [
    "accu=np.asarray(accu)"
   ]
  },
  {
   "cell_type": "code",
   "execution_count": null,
   "metadata": {},
   "outputs": [],
   "source": [
    "accu"
   ]
  },
  {
   "cell_type": "code",
   "execution_count": 10,
   "metadata": {},
   "outputs": [
    {
     "data": {
      "text/plain": [
       "0.5862903225806452"
      ]
     },
     "execution_count": 10,
     "metadata": {},
     "output_type": "execute_result"
    }
   ],
   "source": [
    "accu.mean()"
   ]
  },
  {
   "cell_type": "code",
   "execution_count": null,
   "metadata": {},
   "outputs": [],
   "source": [
    "print(confusion_matrix(y_test,y_pred))\n",
    "print(classification_report(y_test,y_pred))"
   ]
  }
 ],
 "metadata": {
  "kernelspec": {
   "display_name": "Python 3",
   "language": "python",
   "name": "python3"
  },
  "language_info": {
   "codemirror_mode": {
    "name": "ipython",
    "version": 3
   },
   "file_extension": ".py",
   "mimetype": "text/x-python",
   "name": "python",
   "nbconvert_exporter": "python",
   "pygments_lexer": "ipython3",
   "version": "3.7.5"
  }
 },
 "nbformat": 4,
 "nbformat_minor": 2
}
